{
  "nbformat": 4,
  "nbformat_minor": 0,
  "metadata": {
    "colab": {
      "provenance": [],
      "toc_visible": true,
      "authorship_tag": "ABX9TyOHOdWA2mclRlztjm7ZnZFL",
      "include_colab_link": true
    },
    "kernelspec": {
      "name": "python3",
      "display_name": "Python 3"
    },
    "language_info": {
      "name": "python"
    }
  },
  "cells": [
    {
      "cell_type": "markdown",
      "metadata": {
        "id": "view-in-github",
        "colab_type": "text"
      },
      "source": [
        "<a href=\"https://colab.research.google.com/github/terra-geo/geog510-test/blob/main/badge_colab.ipynb\" target=\"_parent\"><img src=\"https://colab.research.google.com/assets/colab-badge.svg\" alt=\"Open In Colab\"/></a>"
      ]
    },
    {
      "cell_type": "markdown",
      "source": [
        "[![Open In Colab](https://colab.research.google.com/assets/colab-badge.svg)](https://colab.research.google.com/drive/1pw3KiUOcG-9_pkEGJ4P2aX4Dq1ODIAcl?usp=sharing)"
      ],
      "metadata": {
        "id": "lOrdlsHxDwt1"
      }
    },
    {
      "cell_type": "code",
      "source": [
        "print(\"Geographic Software Design Course\")"
      ],
      "metadata": {
        "colab": {
          "base_uri": "https://localhost:8080/"
        },
        "id": "djO1F4MBDu9O",
        "outputId": "9dcfc23e-c3c0-419c-bfb5-e321cf0df2e7"
      },
      "execution_count": 1,
      "outputs": [
        {
          "output_type": "stream",
          "name": "stdout",
          "text": [
            "Geographic Software Design Course\n"
          ]
        }
      ]
    }
  ]
}